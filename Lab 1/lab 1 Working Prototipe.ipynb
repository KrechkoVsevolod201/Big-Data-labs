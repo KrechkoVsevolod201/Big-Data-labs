{
 "cells": [
  {
   "cell_type": "code",
   "execution_count": 1,
   "id": "2ed1e7ba-1410-4389-bd5b-529ad2528723",
   "metadata": {},
   "outputs": [
    {
     "name": "stdout",
     "output_type": "stream",
     "text": [
      "Defaulting to user installation because normal site-packages is not writeable\n",
      "Requirement already satisfied: numpy in ./.local/lib/python3.9/site-packages (1.26.2)\n"
     ]
    }
   ],
   "source": [
    "!python3 -m venv venv\n",
    "!source venv/bin/activate \n",
    "!python3 -m pip install numpy"
   ]
  },
  {
   "cell_type": "code",
   "execution_count": 2,
   "id": "c827fb6f-ccc1-4e2d-ad92-62653823a6ff",
   "metadata": {},
   "outputs": [
    {
     "name": "stdout",
     "output_type": "stream",
     "text": [
      "Python 3.9.5\n"
     ]
    }
   ],
   "source": [
    "!python --version"
   ]
  },
  {
   "cell_type": "code",
   "execution_count": 3,
   "id": "f703e846-cdae-4883-9b4e-f09d41647a47",
   "metadata": {},
   "outputs": [],
   "source": [
    "#!hadoop fs -put ~/ /user"
   ]
  },
  {
   "cell_type": "code",
   "execution_count": 4,
   "id": "6c30ad99-24b0-420a-beb3-987bfb15db18",
   "metadata": {},
   "outputs": [],
   "source": [
    "from pyspark import SparkContext, SparkConf \n",
    "from pyspark.sql import SparkSession\n",
    "import pyspark.sql as sql\n",
    "from typing import NamedTuple\n",
    "from datetime import datetime\n",
    "\n",
    "\n",
    "conf = SparkConf().setAppName(\"lab 1\").setMaster('yarn')"
   ]
  },
  {
   "cell_type": "code",
   "execution_count": 5,
   "id": "3c862e6b-602d-4403-b483-f9f49f23b795",
   "metadata": {},
   "outputs": [],
   "source": [
    "sc = SparkContext.getOrCreate(conf = conf)"
   ]
  },
  {
   "cell_type": "code",
   "execution_count": 23,
   "id": "b7221a63-6708-482f-a9a1-84c570935cbf",
   "metadata": {},
   "outputs": [],
   "source": [
    "#os.path.join(path, 'trips (1).csv')\n",
    "\n",
    "#tripData = sc.textFile(os.path.join(path, 'trips.csv'))\n",
    "tripData = sc.textFile(\"trips.csv\")\n",
    "\n",
    "tripsHeader = tripData.first()\n",
    "trips = tripData.filter(lambda row: row != tripsHeader).map(lambda row: row.split(\",\", -1))"
   ]
  },
  {
   "cell_type": "markdown",
   "id": "9f88f7e0-c6ed-477d-8495-7918d3481360",
   "metadata": {},
   "source": [
    "1. Найти велосипед с максимальным временем пробега."
   ]
  },
  {
   "cell_type": "code",
   "execution_count": 7,
   "id": "381a648e-0c41-4b52-b189-280d01540563",
   "metadata": {},
   "outputs": [
    {
     "data": {
      "text/plain": [
       "669959"
      ]
     },
     "execution_count": 7,
     "metadata": {},
     "output_type": "execute_result"
    }
   ],
   "source": [
    "trips.count()"
   ]
  },
  {
   "cell_type": "code",
   "execution_count": 8,
   "id": "6ccd1a47-e768-4558-9461-90d5fb57274f",
   "metadata": {},
   "outputs": [
    {
     "data": {
      "text/plain": [
       "[['4576',\n",
       "  '63',\n",
       "  '',\n",
       "  'South Van Ness at Market',\n",
       "  '66',\n",
       "  '8/29/2013 14:14',\n",
       "  'South Van Ness at Market',\n",
       "  '66',\n",
       "  '520',\n",
       "  'Subscriber',\n",
       "  '94127'],\n",
       " ['4607',\n",
       "  '',\n",
       "  '8/29/2013 14:42',\n",
       "  'San Jose City Hall',\n",
       "  '10',\n",
       "  '8/29/2013 14:43',\n",
       "  'San Jose City Hall',\n",
       "  '10',\n",
       "  '661',\n",
       "  'Subscriber',\n",
       "  '95138']]"
      ]
     },
     "execution_count": 8,
     "metadata": {},
     "output_type": "execute_result"
    }
   ],
   "source": [
    "trips.take(2)"
   ]
  },
  {
   "cell_type": "code",
   "execution_count": 9,
   "id": "2868115e-2dcb-49a0-a7d3-2dcff43ea804",
   "metadata": {},
   "outputs": [],
   "source": [
    "from typing import NamedTuple\n",
    "from datetime import datetime\n",
    "\n",
    "def initTrip(trips):\n",
    "    class Trip(NamedTuple):\n",
    "        trip_id: int\n",
    "        duration: int\n",
    "        start_date: datetime\n",
    "        start_station_name: str\n",
    "        start_station_id: int\n",
    "        end_date: datetime\n",
    "        end_station_name: str\n",
    "        end_station_id: int\n",
    "        bike_id: int\n",
    "        subscription_type: str\n",
    "        zip_code: str\n",
    "        \n",
    "    for trip in trips:\n",
    "        try:\n",
    "            yield Trip(                             \n",
    "             trip_id = int(trip[0]),\n",
    "             duration = int(trip[1]),\n",
    "             start_date = datetime.strptime(trip[2], '%m/%d/%Y %H:%M'),\n",
    "             start_station_name = trip[3],\n",
    "             start_station_id = int(trip[4]),\n",
    "             end_date = datetime.strptime(trip[5], '%m/%d/%Y %H:%M'),\n",
    "             end_station_name = trip[6],\n",
    "             end_station_id = trip[7],\n",
    "             bike_id = int(trip[8]),\n",
    "             subscription_type = trip[9],\n",
    "             zip_code = trip[10]\n",
    "            ) \n",
    "        except:\n",
    "            pass"
   ]
  },
  {
   "cell_type": "code",
   "execution_count": 10,
   "id": "e1687535-358c-4e38-88eb-b80516c09ca9",
   "metadata": {},
   "outputs": [],
   "source": [
    "tripsInternal = trips.mapPartitions(initTrip)"
   ]
  },
  {
   "cell_type": "code",
   "execution_count": 11,
   "id": "63ad08ca-fee2-43fc-ae95-d7e45cbad478",
   "metadata": {},
   "outputs": [
    {
     "data": {
      "text/plain": [
       "[(48,\n",
       "  Trip(trip_id=4130, duration=71, start_date=datetime.datetime(2013, 8, 29, 10, 16), start_station_name='Mountain View City Hall', start_station_id=27, end_date=datetime.datetime(2013, 8, 29, 10, 17), end_station_name='Mountain View City Hall', end_station_id='27', bike_id=48, subscription_type='Subscriber', zip_code='97214'))]"
      ]
     },
     "execution_count": 11,
     "metadata": {},
     "output_type": "execute_result"
    }
   ],
   "source": [
    "trips_by_bike_id = tripsInternal.keyBy(lambda trip: trip.bike_id)\n",
    "trips_by_bike_id.take(1)"
   ]
  },
  {
   "cell_type": "code",
   "execution_count": 12,
   "id": "e01c6c2a-7327-42df-8a99-0b71e43b231a",
   "metadata": {},
   "outputs": [],
   "source": [
    "trips_by_duration = trips_by_bike_id.mapValues(lambda trip: trip.duration)"
   ]
  },
  {
   "cell_type": "code",
   "execution_count": 13,
   "id": "3ddf80ee-3b69-4607-833f-b206ea781bb9",
   "metadata": {},
   "outputs": [
    {
     "data": {
      "text/plain": [
       "[(535, 18611693)]"
      ]
     },
     "execution_count": 13,
     "metadata": {},
     "output_type": "execute_result"
    }
   ],
   "source": [
    "trips_by_duration.groupByKey().mapValues(sum).top(1,  key=lambda x: x[1])"
   ]
  },
  {
   "cell_type": "code",
   "execution_count": 14,
   "id": "a758d248-faea-46b0-801f-535cf34b4c84",
   "metadata": {},
   "outputs": [],
   "source": [
    "t = trips_by_duration.groupByKey().mapValues(sum)"
   ]
  },
  {
   "cell_type": "code",
   "execution_count": 15,
   "id": "f4b1939e-e507-4842-a4a5-737126c75e86",
   "metadata": {},
   "outputs": [
    {
     "name": "stdout",
     "output_type": "stream",
     "text": [
      "CPU times: user 15.3 ms, sys: 3.44 ms, total: 18.7 ms\n",
      "Wall time: 18 s\n"
     ]
    }
   ],
   "source": [
    "%%time\n",
    "m = t.map(lambda x: x).top(1, key=lambda x: x[1])"
   ]
  },
  {
   "cell_type": "code",
   "execution_count": 16,
   "id": "7c4b3767-8413-452f-96a5-4b0553c5478e",
   "metadata": {},
   "outputs": [
    {
     "name": "stdout",
     "output_type": "stream",
     "text": [
      "Id: 535, max of duration: 310194.88333333336 min\n"
     ]
    }
   ],
   "source": [
    "print(f\"Id: {m[0][0]}, max of duration: {int(m[0][1])/60} min\")"
   ]
  },
  {
   "cell_type": "markdown",
   "id": "9ddf241a-3156-47de-8c94-2d5f237c94b2",
   "metadata": {},
   "source": [
    "2. Найти наибольшее геодезическое расстояние между станциями."
   ]
  },
  {
   "cell_type": "code",
   "execution_count": 17,
   "id": "ff55798b-d676-415c-937b-1305e1a41806",
   "metadata": {},
   "outputs": [],
   "source": [
    "def initStation(stations):\n",
    "    class Station(NamedTuple):\n",
    "        station_id: int\n",
    "        name: str\n",
    "        lat: float\n",
    "        long: float\n",
    "        dockcount: int\n",
    "        landmark: str\n",
    "        installation: str\n",
    "    \n",
    "    for station in stations:\n",
    "        yield Station(\n",
    "            station_id = int(station[0]),\n",
    "            name = station[1],\n",
    "            lat = float(station[2]),\n",
    "            long = float(station[3]),\n",
    "            dockcount = int(station[4]),\n",
    "            landmark = station[5],\n",
    "            installation = datetime.strptime(station[6], '%m/%d/%Y')\n",
    "        )"
   ]
  },
  {
   "cell_type": "code",
   "execution_count": 32,
   "id": "c69bf1b4-51a3-4e47-b2ce-e7704c8afbfe",
   "metadata": {},
   "outputs": [],
   "source": [
    "station_data = sc.textFile(\"stations.csv\")\n",
    "\n",
    "stationsHeader = station_data.first()\n",
    "stations = station_data.filter(lambda row: row != stationsHeader).map(lambda row: row.split(\",\", -1))\n",
    "stationsInternal = stations.mapPartitions(initStation)"
   ]
  },
  {
   "cell_type": "code",
   "execution_count": 33,
   "id": "b7c85ec4-d77f-4069-87fc-375d99dcde73",
   "metadata": {},
   "outputs": [
    {
     "data": {
      "text/plain": [
       "Station(station_id=2, name='San Jose Diridon Caltrain Station', lat=37.329732, long=-121.90178200000001, dockcount=27, landmark='San Jose', installation=datetime.datetime(2013, 8, 6, 0, 0))"
      ]
     },
     "execution_count": 33,
     "metadata": {},
     "output_type": "execute_result"
    }
   ],
   "source": [
    "stationsInternal.first()"
   ]
  },
  {
   "cell_type": "code",
   "execution_count": 34,
   "id": "b2836bac-27ff-4f0f-91c5-f54879a74627",
   "metadata": {},
   "outputs": [],
   "source": [
    "def dist(x, y):\n",
    "    return ((x.lat - y.lat)**2 + (x.long - y.long)**2)**0.5"
   ]
  },
  {
   "cell_type": "code",
   "execution_count": 35,
   "id": "11063aca-e06d-4a6e-b128-83dbbb56848a",
   "metadata": {},
   "outputs": [],
   "source": [
    "all_distances = stationsInternal.cartesian(stationsInternal).map(lambda pair: (pair[0].station_id, pair[1].station_id, dist(pair[0], pair[1])))"
   ]
  },
  {
   "cell_type": "code",
   "execution_count": 36,
   "id": "d91d4731-bdfe-4199-a714-02c2528abf39",
   "metadata": {},
   "outputs": [],
   "source": [
    "max_dist = all_distances.top(1, key=lambda x: x[2])[0]"
   ]
  },
  {
   "cell_type": "code",
   "execution_count": 37,
   "id": "93938b2b-a146-4208-8b3e-53a2a0a02513",
   "metadata": {},
   "outputs": [
    {
     "name": "stdout",
     "output_type": "stream",
     "text": [
      "Max distance:\t0.7058482821754397\n",
      "Stations:\t16-60\n"
     ]
    }
   ],
   "source": [
    "print(f'Max distance:\\t{max_dist[2]}\\nStations:\\t{max_dist[0]}-{max_dist[1]}')"
   ]
  },
  {
   "cell_type": "markdown",
   "id": "a894284f-36e9-4829-b907-956d7bf833e0",
   "metadata": {},
   "source": [
    "3. Найти путь велосипеда с максимальным временем пробега через станции"
   ]
  },
  {
   "cell_type": "code",
   "execution_count": 38,
   "id": "ea676340-9724-4649-a6c8-010748aa5863",
   "metadata": {},
   "outputs": [
    {
     "name": "stdout",
     "output_type": "stream",
     "text": [
      "Велосипед с максимальным временем пробега:  535\n"
     ]
    }
   ],
   "source": [
    "id = m[0][0]\n",
    "print(\"Велосипед с максимальным временем пробега: \", id)"
   ]
  },
  {
   "cell_type": "code",
   "execution_count": 39,
   "id": "889e212b-d3bd-4bc3-8e39-d523c3e0cd06",
   "metadata": {},
   "outputs": [
    {
     "data": {
      "text/plain": [
       "['id,duration,start_date,start_station_name,start_station_id,end_date,end_station_name,end_station_id,bike_id,subscription_type,zip_code',\n",
       " '4576,63,,South Van Ness at Market,66,8/29/2013 14:14,South Van Ness at Market,66,520,Subscriber,94127',\n",
       " '4607,,8/29/2013 14:42,San Jose City Hall,10,8/29/2013 14:43,San Jose City Hall,10,661,Subscriber,95138',\n",
       " '4130,71,8/29/2013 10:16,Mountain View City Hall,27,8/29/2013 10:17,Mountain View City Hall,27,48,Subscriber,97214',\n",
       " '4251,77,8/29/2013 11:29,San Jose City Hall,10,8/29/2013 11:30,San Jose City Hall,10,26,Subscriber,95060']"
      ]
     },
     "execution_count": 39,
     "metadata": {},
     "output_type": "execute_result"
    }
   ],
   "source": [
    "tripData.take(5)"
   ]
  },
  {
   "cell_type": "code",
   "execution_count": 40,
   "id": "abe036a0-c001-4129-8323-db13e223f974",
   "metadata": {},
   "outputs": [],
   "source": [
    "# filtering for map\n",
    "trip_header=tripData.first()\n",
    "\n",
    "trip=tripData.filter(lambda x: x != trip_header).map(lambda x: x.split(\",\"))"
   ]
  },
  {
   "cell_type": "code",
   "execution_count": 46,
   "id": "d6d92ab9-4385-49b2-aa73-023811d47f6b",
   "metadata": {},
   "outputs": [
    {
     "data": {
      "text/plain": [
       "Trip(trip_id=4130, duration=71, start_date=datetime.datetime(2013, 8, 29, 10, 16), start_station_name='Mountain View City Hall', start_station_id=27, end_date=datetime.datetime(2013, 8, 29, 10, 17), end_station_name='Mountain View City Hall', end_station_id='27', bike_id=48, subscription_type='Subscriber', zip_code='97214')"
      ]
     },
     "execution_count": 46,
     "metadata": {},
     "output_type": "execute_result"
    }
   ],
   "source": [
    "trip_mp = trip.mapPartitions(initTrip)\n",
    "trip_mp.first()"
   ]
  },
  {
   "cell_type": "code",
   "execution_count": 47,
   "id": "07a77875-bc84-45e1-a627-b29fd928fef9",
   "metadata": {},
   "outputs": [
    {
     "data": {
      "text/plain": [
       "535"
      ]
     },
     "execution_count": 47,
     "metadata": {},
     "output_type": "execute_result"
    }
   ],
   "source": [
    "bike_max_time = trip_mp \\\n",
    ".map(lambda trip: (trip.bike_id, trip.duration)) \\\n",
    ".reduceByKey(lambda a, b: a + b) \\\n",
    ".top(1, key = lambda x: x[1])[0][0]\n",
    "\n",
    "bike_max_time"
   ]
  },
  {
   "cell_type": "code",
   "execution_count": 48,
   "id": "a5c2113a-d99c-4e2e-b0b9-3d03218c52f0",
   "metadata": {},
   "outputs": [
    {
     "data": {
      "text/plain": [
       "('Post at Kearney', 'San Francisco Caltrain (Townsend at 4th)')"
      ]
     },
     "execution_count": 48,
     "metadata": {},
     "output_type": "execute_result"
    }
   ],
   "source": [
    "#trip_header=tripData.first()\n",
    "#trip=tripData.filter(lambda x: x != trip_header).map(lambda x: x.split(\",\"))\n",
    "\n",
    "\n",
    "result = trip_mp \\\n",
    "    .filter(lambda x: x.bike_id == bike_max_time) \\\n",
    "    .sortBy(lambda x: x.start_date) \\\n",
    "    .map(lambda x: (x.start_station_name, x.end_station_name)) \\\n",
    "    .first() \n",
    "\n",
    "result"
   ]
  },
  {
   "cell_type": "markdown",
   "id": "3fa56521-7881-4ad7-9b78-309d2cc22606",
   "metadata": {},
   "source": [
    "4. Найти количество велосипедов в системе"
   ]
  },
  {
   "cell_type": "code",
   "execution_count": 49,
   "id": "dfbf3627-94d4-4d01-b5a2-93710967de40",
   "metadata": {},
   "outputs": [
    {
     "data": {
      "text/plain": [
       "700"
      ]
     },
     "execution_count": 49,
     "metadata": {},
     "output_type": "execute_result"
    }
   ],
   "source": [
    "amount = trip_mp \\\n",
    ".map(lambda x: x.bike_id) \\\n",
    ".distinct() \\\n",
    ".count()\n",
    "\n",
    "amount"
   ]
  },
  {
   "cell_type": "markdown",
   "id": "00753537-2661-4b25-bef3-5661758f1600",
   "metadata": {},
   "source": [
    "5. Найти пользователей потративших на поездки более 3 часов"
   ]
  },
  {
   "cell_type": "code",
   "execution_count": 50,
   "id": "6fd1b24e-b343-4c73-a9b0-d4e1020cd346",
   "metadata": {},
   "outputs": [
    {
     "data": {
      "text/plain": [
       "['94306', '49423', '49721']"
      ]
     },
     "execution_count": 50,
     "metadata": {},
     "output_type": "execute_result"
    }
   ],
   "source": [
    "users3h = trip_mp \\\n",
    ".filter(lambda x: x.duration > (3 * 60 * 60)) \\\n",
    ".map(lambda x: x.zip_code) \\\n",
    ".filter(lambda x: x != \"\") \\\n",
    ".distinct() \n",
    "\n",
    "users3h.take(3)"
   ]
  }
 ],
 "metadata": {
  "kernelspec": {
   "display_name": "Python 3",
   "language": "python",
   "name": "python3"
  },
  "language_info": {
   "codemirror_mode": {
    "name": "ipython",
    "version": 3
   },
   "file_extension": ".py",
   "mimetype": "text/x-python",
   "name": "python",
   "nbconvert_exporter": "python",
   "pygments_lexer": "ipython3",
   "version": "3.9.5"
  }
 },
 "nbformat": 4,
 "nbformat_minor": 5
}
