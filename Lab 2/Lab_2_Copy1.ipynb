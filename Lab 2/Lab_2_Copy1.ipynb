{
  "cells": [
    {
      "cell_type": "code",
      "source": [
        "!pip install pyspark"
      ],
      "metadata": {
        "colab": {
          "base_uri": "https://localhost:8080/"
        },
        "id": "00O3Qu1uay2q",
        "outputId": "b796c8e3-beae-45b2-b6a1-6d4eb670bbae"
      },
      "id": "00O3Qu1uay2q",
      "execution_count": 2,
      "outputs": [
        {
          "output_type": "stream",
          "name": "stdout",
          "text": [
            "Collecting pyspark\n",
            "  Downloading pyspark-3.5.0.tar.gz (316.9 MB)\n",
            "\u001b[2K     \u001b[90m━━━━━━━━━━━━━━━━━━━━━━━━━━━━━━━━━━━━━━━━\u001b[0m \u001b[32m316.9/316.9 MB\u001b[0m \u001b[31m4.4 MB/s\u001b[0m eta \u001b[36m0:00:00\u001b[0m\n",
            "\u001b[?25h  Preparing metadata (setup.py) ... \u001b[?25l\u001b[?25hdone\n",
            "Requirement already satisfied: py4j==0.10.9.7 in /usr/local/lib/python3.10/dist-packages (from pyspark) (0.10.9.7)\n",
            "Building wheels for collected packages: pyspark\n",
            "  Building wheel for pyspark (setup.py) ... \u001b[?25l\u001b[?25hdone\n",
            "  Created wheel for pyspark: filename=pyspark-3.5.0-py2.py3-none-any.whl size=317425345 sha256=391c6bf1a431ca862491b60822dcb8dd034b43c4ebc5807533a936d06147b1f1\n",
            "  Stored in directory: /root/.cache/pip/wheels/41/4e/10/c2cf2467f71c678cfc8a6b9ac9241e5e44a01940da8fbb17fc\n",
            "Successfully built pyspark\n",
            "Installing collected packages: pyspark\n",
            "Successfully installed pyspark-3.5.0\n"
          ]
        }
      ]
    },
    {
      "cell_type": "code",
      "execution_count": 3,
      "id": "34bbde9e-24b0-4bca-8ed4-7f1be38a5aa8",
      "metadata": {
        "id": "34bbde9e-24b0-4bca-8ed4-7f1be38a5aa8"
      },
      "outputs": [],
      "source": [
        "from pyspark import SparkContext, SparkConf\n",
        "from pyspark.sql import SQLContext\n",
        "from pyspark.sql import SparkSession\n",
        "from pyspark.sql.functions import udf\n",
        "from pyspark.sql.types import StringType\n",
        "# from pyspark.sql.functions import *\n",
        "from pyspark.sql.types import IntegerType, Row\n",
        "import pyspark.sql.functions as F"
      ]
    },
    {
      "cell_type": "code",
      "execution_count": null,
      "id": "6a466e32-830c-43c3-9166-97d59a5d19de",
      "metadata": {
        "id": "6a466e32-830c-43c3-9166-97d59a5d19de"
      },
      "outputs": [],
      "source": [
        "#!hadoop fs -put /home/cheburator/posts_sample.xml\n",
        "#!hadoop fs -put /home/cheburator/programming-languages.csv"
      ]
    },
    {
      "cell_type": "code",
      "execution_count": null,
      "id": "adc2d73d-cc76-48dd-9a3c-7fb1b2495516",
      "metadata": {
        "id": "adc2d73d-cc76-48dd-9a3c-7fb1b2495516"
      },
      "outputs": [],
      "source": [
        "#!hadoop fs -ls"
      ]
    },
    {
      "cell_type": "code",
      "execution_count": 4,
      "id": "554d7b42-16f2-4154-ad39-eed40668e8ae",
      "metadata": {
        "id": "554d7b42-16f2-4154-ad39-eed40668e8ae"
      },
      "outputs": [],
      "source": [
        "spark = SparkSession.builder.appName('laba 2').config(\"spark.jars.packages\", \"com.databricks:spark-xml_2.12:0.17.0\").getOrCreate()"
      ]
    },
    {
      "cell_type": "code",
      "execution_count": 5,
      "id": "08ca1a52-e6ea-45d8-80f4-a2cd15a4e954",
      "metadata": {
        "colab": {
          "base_uri": "https://localhost:8080/"
        },
        "id": "08ca1a52-e6ea-45d8-80f4-a2cd15a4e954",
        "outputId": "29d7fed1-e15f-43ce-98cb-51b22448c26d"
      },
      "outputs": [
        {
          "output_type": "execute_result",
          "data": {
            "text/plain": [
              "Row(_AcceptedAnswerId=7, _AnswerCount=13, _Body=\"<p>I want to use a track-bar to change a form's opacity.</p>\\n\\n<p>This is my code:</p>\\n\\n<pre><code>decimal trans = trackBar1.Value / 5000;\\nthis.Opacity = trans;\\n</code></pre>\\n\\n<p>When I build the application, it gives the following error:</p>\\n\\n<blockquote>\\n  <p>Cannot implicitly convert type <code>'decimal'</code> to <code>'double'</code></p>\\n</blockquote>\\n\\n<p>I tried using <code>trans</code> and <code>double</code> but then the control doesn't work. This code worked fine in a past VB.NET project.</p>\\n\", _ClosedDate=None, _CommentCount=2, _CommunityOwnedDate=datetime.datetime(2012, 10, 31, 16, 42, 47, 213000), _CreationDate=datetime.datetime(2008, 7, 31, 21, 42, 52, 667000), _FavoriteCount=48, _Id=4, _LastActivityDate=datetime.datetime(2019, 7, 19, 1, 39, 54, 173000), _LastEditDate=datetime.datetime(2019, 7, 19, 1, 39, 54, 173000), _LastEditorDisplayName='Rich B', _LastEditorUserId=3641067, _OwnerDisplayName=None, _OwnerUserId=8, _ParentId=None, _PostTypeId=1, _Score=630, _Tags='<c#><floating-point><type-conversion><double><decimal>', _Title='Convert Decimal to Double?', _ViewCount=42817)"
            ]
          },
          "metadata": {},
          "execution_count": 5
        }
      ],
      "source": [
        "df = spark.read.format(\"com.databricks.spark.xml\").option(\"rootTag\", \"hierarchy\").option(\"rowTag\", \"row\").load(\"posts_sample.xml\")\n",
        "df.head()"
      ]
    },
    {
      "cell_type": "code",
      "execution_count": 6,
      "id": "fa42cce1-fc18-450f-9261-8672489dde97",
      "metadata": {
        "colab": {
          "base_uri": "https://localhost:8080/"
        },
        "id": "fa42cce1-fc18-450f-9261-8672489dde97",
        "outputId": "c4779653-a425-4005-bae5-2b58f94b3a3c"
      },
      "outputs": [
        {
          "output_type": "execute_result",
          "data": {
            "text/plain": [
              "['_AcceptedAnswerId',\n",
              " '_AnswerCount',\n",
              " '_Body',\n",
              " '_ClosedDate',\n",
              " '_CommentCount',\n",
              " '_CommunityOwnedDate',\n",
              " '_CreationDate',\n",
              " '_FavoriteCount',\n",
              " '_Id',\n",
              " '_LastActivityDate',\n",
              " '_LastEditDate',\n",
              " '_LastEditorDisplayName',\n",
              " '_LastEditorUserId',\n",
              " '_OwnerDisplayName',\n",
              " '_OwnerUserId',\n",
              " '_ParentId',\n",
              " '_PostTypeId',\n",
              " '_Score',\n",
              " '_Tags',\n",
              " '_Title',\n",
              " '_ViewCount']"
            ]
          },
          "metadata": {},
          "execution_count": 6
        }
      ],
      "source": [
        "df.schema.names"
      ]
    },
    {
      "cell_type": "code",
      "execution_count": 7,
      "id": "3a9d7da6-2dae-44d4-a7ca-8e0e95023911",
      "metadata": {
        "id": "3a9d7da6-2dae-44d4-a7ca-8e0e95023911"
      },
      "outputs": [],
      "source": [
        "df = df.drop('_Body', '_ClosedDate',  '_CommentCount', '_CommunityOwnedDate', '_LastEditDate', '_AcceptedAnswerId',\n",
        " '_LastEditorDisplayName',\n",
        " '_LastEditorUserId',\n",
        " '_OwnerDisplayName',\n",
        " '_OwnerUserId', '_ParentId',  '_PostTypeId', '_Id', '_ViewCount', '_FavoriteCount', '_AnswerCount', '_Title')\n",
        "df = df.dropna(subset=[\"_Tags\", \"_CreationDate\", \"_Score\"])"
      ]
    },
    {
      "cell_type": "code",
      "execution_count": 8,
      "id": "582820bd-cac2-43a6-8430-3eb30db2d8aa",
      "metadata": {
        "colab": {
          "base_uri": "https://localhost:8080/"
        },
        "id": "582820bd-cac2-43a6-8430-3eb30db2d8aa",
        "outputId": "0b838945-3f20-4306-a254-875bc2d6142c"
      },
      "outputs": [
        {
          "output_type": "stream",
          "name": "stdout",
          "text": [
            "+--------------------+--------------------+------+--------------------+\n",
            "|       _CreationDate|   _LastActivityDate|_Score|               _Tags|\n",
            "+--------------------+--------------------+------+--------------------+\n",
            "|2008-07-31 21:42:...|2019-07-19 01:39:...|   630|<c#><floating-poi...|\n",
            "|2008-07-31 22:08:...|2019-07-19 01:43:...|   281|<html><css><inter...|\n",
            "|2008-07-31 23:40:...|2019-06-26 15:25:...|  1742|<c#><.net><datetime>|\n",
            "|2008-07-31 23:55:...|2019-05-26 02:31:...|  1444|<c#><datetime><ti...|\n",
            "|2008-08-01 00:42:...|2019-05-14 16:02:...|   590|<html><browser><t...|\n",
            "|2008-08-01 00:59:...|2018-09-19 03:49:...|   399|        <.net><math>|\n",
            "|2010-09-22 10:33:...|2017-02-26 18:11:...|    10|<c++><character-e...|\n",
            "|2010-09-23 06:47:...|2010-11-23 13:14:...|     1|<sharepoint><info...|\n",
            "|2010-09-23 08:53:...|2012-09-11 14:09:...|     6|<iphone><app-stor...|\n",
            "|2010-09-23 11:47:...|2012-04-16 22:54:...|     5|<symfony1><schema...|\n",
            "|2010-09-23 12:13:...|2010-09-23 13:52:...|    -4|              <java>|\n",
            "|2010-09-24 08:40:...|2011-01-20 11:02:...|     0|<visual-studio-20...|\n",
            "|2010-09-24 16:34:...|2010-09-26 07:54:...|     1|<cakephp><file-up...|\n",
            "|2010-09-25 17:42:...|2012-05-17 13:22:...|     1|<git><cygwin><putty>|\n",
            "|2010-09-26 12:58:...|2010-09-26 15:33:...|     1|  <drupal><drupal-6>|\n",
            "|2010-09-26 17:07:...|2010-09-27 14:34:...|     3|<php><wordpress><...|\n",
            "|2010-09-27 05:20:...|2014-09-09 09:50:...|    11|<c#><winforms><da...|\n",
            "|2010-09-27 09:48:...|2012-03-02 02:31:...|     2|<c#><asp.net><exc...|\n",
            "|2010-09-28 08:56:...|2010-12-24 09:50:...|     1|    <sql><xml><blob>|\n",
            "|2010-09-28 18:48:...|2017-03-23 19:03:...|     3|<.htaccess><codei...|\n",
            "+--------------------+--------------------+------+--------------------+\n",
            "only showing top 20 rows\n",
            "\n"
          ]
        }
      ],
      "source": [
        "df.show()"
      ]
    },
    {
      "cell_type": "code",
      "execution_count": 9,
      "id": "1dfc6c58-7141-4ee6-99d9-d1e80050b41c",
      "metadata": {
        "id": "1dfc6c58-7141-4ee6-99d9-d1e80050b41c"
      },
      "outputs": [],
      "source": [
        "df = df.withColumn('tags', F.regexp_extract('_Tags', r'\\.?\\w+#?\\+*', 0))"
      ]
    },
    {
      "cell_type": "code",
      "execution_count": 10,
      "id": "1dadd1a0-b6e0-4975-bb9e-856aa9fa84fc",
      "metadata": {
        "id": "1dadd1a0-b6e0-4975-bb9e-856aa9fa84fc"
      },
      "outputs": [],
      "source": [
        "df = df.withColumn('_CreationDate', F.year(df._CreationDate))"
      ]
    },
    {
      "cell_type": "code",
      "execution_count": 11,
      "id": "148f38e5-b24d-4699-8874-0563bef5bb67",
      "metadata": {
        "colab": {
          "base_uri": "https://localhost:8080/"
        },
        "id": "148f38e5-b24d-4699-8874-0563bef5bb67",
        "outputId": "58a7b769-4c29-4834-f0df-8353ea1ec588"
      },
      "outputs": [
        {
          "output_type": "execute_result",
          "data": {
            "text/plain": [
              "1043"
            ]
          },
          "metadata": {},
          "execution_count": 11
        }
      ],
      "source": [
        "df.select(\"tags\").distinct().count()"
      ]
    },
    {
      "cell_type": "code",
      "execution_count": 12,
      "id": "e0b6cb51-13ac-4d3e-8daf-551b2f6b3e51",
      "metadata": {
        "colab": {
          "base_uri": "https://localhost:8080/"
        },
        "id": "e0b6cb51-13ac-4d3e-8daf-551b2f6b3e51",
        "outputId": "f0a3a115-6269-4202-f814-80077b14659d"
      },
      "outputs": [
        {
          "output_type": "stream",
          "name": "stdout",
          "text": [
            "+-------------+--------------------+------+----------+\n",
            "|_CreationDate|   _LastActivityDate|_Score|      tags|\n",
            "+-------------+--------------------+------+----------+\n",
            "|         2008|2019-07-19 01:39:...|   630|        c#|\n",
            "|         2008|2019-07-19 01:43:...|   281|      html|\n",
            "|         2008|2019-06-26 15:25:...|  1742|        c#|\n",
            "|         2008|2019-05-26 02:31:...|  1444|        c#|\n",
            "|         2008|2019-05-14 16:02:...|   590|      html|\n",
            "|         2008|2018-09-19 03:49:...|   399|      .net|\n",
            "|         2010|2017-02-26 18:11:...|    10|       c++|\n",
            "|         2010|2010-11-23 13:14:...|     1|sharepoint|\n",
            "|         2010|2012-09-11 14:09:...|     6|    iphone|\n",
            "|         2010|2012-04-16 22:54:...|     5|  symfony1|\n",
            "|         2010|2010-09-23 13:52:...|    -4|      java|\n",
            "|         2010|2011-01-20 11:02:...|     0|    visual|\n",
            "|         2010|2010-09-26 07:54:...|     1|   cakephp|\n",
            "|         2010|2012-05-17 13:22:...|     1|       git|\n",
            "|         2010|2010-09-26 15:33:...|     1|    drupal|\n",
            "|         2010|2010-09-27 14:34:...|     3|       php|\n",
            "|         2010|2014-09-09 09:50:...|    11|        c#|\n",
            "|         2010|2012-03-02 02:31:...|     2|        c#|\n",
            "|         2010|2010-12-24 09:50:...|     1|       sql|\n",
            "|         2010|2017-03-23 19:03:...|     3| .htaccess|\n",
            "+-------------+--------------------+------+----------+\n",
            "only showing top 20 rows\n",
            "\n"
          ]
        }
      ],
      "source": [
        "df = df.drop('_Tags')\n",
        "df.show()"
      ]
    },
    {
      "cell_type": "code",
      "execution_count": 13,
      "id": "0e551796-274a-46a7-95f0-67df30d1172d",
      "metadata": {
        "id": "0e551796-274a-46a7-95f0-67df30d1172d"
      },
      "outputs": [],
      "source": [
        "postsInternal = df.groupBy(\"_CreationDate\", \"tags\").sum(\"_Score\")"
      ]
    },
    {
      "cell_type": "code",
      "execution_count": 14,
      "id": "67463e9f-cfdd-4ad4-ab02-dcc812b176f3",
      "metadata": {
        "id": "67463e9f-cfdd-4ad4-ab02-dcc812b176f3"
      },
      "outputs": [],
      "source": [
        "postsInternal = postsInternal.withColumnRenamed(\"sum(_Score)\", \"score\")"
      ]
    },
    {
      "cell_type": "code",
      "execution_count": 15,
      "id": "08d20762-71cb-48b0-a542-f5c964ef3892",
      "metadata": {
        "colab": {
          "base_uri": "https://localhost:8080/"
        },
        "id": "08d20762-71cb-48b0-a542-f5c964ef3892",
        "outputId": "5a9b1c44-b1bb-4120-c87b-39c2dbf5502a"
      },
      "outputs": [
        {
          "output_type": "stream",
          "name": "stdout",
          "text": [
            "root\n",
            " |-- _CreationDate: integer (nullable = true)\n",
            " |-- tags: string (nullable = true)\n",
            " |-- score: long (nullable = true)\n",
            "\n"
          ]
        }
      ],
      "source": [
        "postsInternal.printSchema()"
      ]
    },
    {
      "cell_type": "code",
      "execution_count": 16,
      "id": "8cd48476-ebbf-4cdb-b94a-fe5fc150723c",
      "metadata": {
        "colab": {
          "base_uri": "https://localhost:8080/"
        },
        "id": "8cd48476-ebbf-4cdb-b94a-fe5fc150723c",
        "outputId": "6d107beb-f9fa-49bf-98ff-c5e581f1e8a9"
      },
      "outputs": [
        {
          "output_type": "stream",
          "name": "stdout",
          "text": [
            "+-------------+-----------+-----+\n",
            "|_CreationDate|       tags|score|\n",
            "+-------------+-----------+-----+\n",
            "|         2013|     jquery|   65|\n",
            "|         2014|         c#|  300|\n",
            "|         2018|   security|    2|\n",
            "|         2012|      jetty|    4|\n",
            "|         2013|     events|   29|\n",
            "|         2018|codenameone|    2|\n",
            "|         2012|   generics|    2|\n",
            "|         2011|       code|    1|\n",
            "|         2011|geolocation|    0|\n",
            "|         2013|      neo4j|    2|\n",
            "|         2013| highcharts|    0|\n",
            "|         2015|        ios|  941|\n",
            "|         2018|       ajax|    0|\n",
            "|         2012|  glassfish|    0|\n",
            "|         2017|  angularjs|   -2|\n",
            "|         2019| phpmyadmin|    0|\n",
            "|         2017|       perl|    8|\n",
            "|         2019| typescript|    5|\n",
            "|         2016|    angular|  126|\n",
            "|         2011|      emacs|    1|\n",
            "+-------------+-----------+-----+\n",
            "only showing top 20 rows\n",
            "\n"
          ]
        }
      ],
      "source": [
        "postsInternal.show()"
      ]
    },
    {
      "cell_type": "code",
      "execution_count": 17,
      "id": "a3f14e07-4d56-4c3c-ba00-958aa728bb19",
      "metadata": {
        "id": "a3f14e07-4d56-4c3c-ba00-958aa728bb19"
      },
      "outputs": [],
      "source": [
        "programm = spark.read.csv(\"programming-languages.csv\")"
      ]
    },
    {
      "cell_type": "code",
      "execution_count": 18,
      "id": "f4e792a4-b8e2-40b1-93d2-e41ca790b1c2",
      "metadata": {
        "id": "f4e792a4-b8e2-40b1-93d2-e41ca790b1c2"
      },
      "outputs": [],
      "source": [
        "programms = programm.rdd.map(lambda x: x[0].lower()).collect()[1:]"
      ]
    },
    {
      "cell_type": "code",
      "execution_count": 19,
      "id": "fe741e9c-942a-4a0e-9893-4b6be141b057",
      "metadata": {
        "id": "fe741e9c-942a-4a0e-9893-4b6be141b057"
      },
      "outputs": [],
      "source": [
        "posts = postsInternal.rdd.filter(lambda row: row.tags in programms).filter(lambda row: row._CreationDate >= 2010)"
      ]
    },
    {
      "cell_type": "code",
      "execution_count": 20,
      "id": "e43caa8d-b2d7-4bbe-a4d0-72046da5d64d",
      "metadata": {
        "colab": {
          "base_uri": "https://localhost:8080/"
        },
        "id": "e43caa8d-b2d7-4bbe-a4d0-72046da5d64d",
        "outputId": "043bff1e-38f9-4466-9311-1d39381cdcf8"
      },
      "outputs": [
        {
          "output_type": "execute_result",
          "data": {
            "text/plain": [
              "264"
            ]
          },
          "metadata": {},
          "execution_count": 20
        }
      ],
      "source": [
        "posts.count()"
      ]
    },
    {
      "cell_type": "code",
      "execution_count": 21,
      "id": "fafc0b34-7632-484f-b380-bf403873256c",
      "metadata": {
        "id": "fafc0b34-7632-484f-b380-bf403873256c"
      },
      "outputs": [],
      "source": [
        "ps = spark.createDataFrame(posts)"
      ]
    },
    {
      "cell_type": "code",
      "execution_count": 22,
      "id": "10be7f37-8c01-4d78-8bc9-23c2e6aa22cc",
      "metadata": {
        "id": "10be7f37-8c01-4d78-8bc9-23c2e6aa22cc"
      },
      "outputs": [],
      "source": [
        "ps = ps.orderBy([\"_CreationDate\", \"score\"], ascending=[1, 0])"
      ]
    },
    {
      "cell_type": "code",
      "execution_count": 23,
      "id": "ddb0b60f-9446-4c06-8381-495d52162114",
      "metadata": {
        "colab": {
          "base_uri": "https://localhost:8080/"
        },
        "id": "ddb0b60f-9446-4c06-8381-495d52162114",
        "outputId": "1f26c549-6c90-41dc-842e-26f8314d21b8"
      },
      "outputs": [
        {
          "output_type": "stream",
          "name": "stdout",
          "text": [
            "+-------------+------------+-----+\n",
            "|_CreationDate|        tags|score|\n",
            "+-------------+------------+-----+\n",
            "|         2010|         php|  841|\n",
            "|         2010|        java|  277|\n",
            "|         2010|  javascript|  176|\n",
            "|         2010|        ruby|  116|\n",
            "|         2010|      python|   76|\n",
            "|         2010|      delphi|   35|\n",
            "|         2010|           c|   35|\n",
            "|         2010|          go|   13|\n",
            "|         2010|  powershell|   11|\n",
            "|         2010|        bash|    9|\n",
            "|         2010|     haskell|    8|\n",
            "|         2010|        perl|    5|\n",
            "|         2010|           r|    2|\n",
            "|         2010| applescript|    0|\n",
            "|         2010|actionscript|    0|\n",
            "|         2010|         ksh|    0|\n",
            "|         2011|  javascript|  480|\n",
            "|         2011|        java|  301|\n",
            "|         2011|        ruby|  297|\n",
            "|         2011|      python|  281|\n",
            "+-------------+------------+-----+\n",
            "only showing top 20 rows\n",
            "\n"
          ]
        }
      ],
      "source": [
        "ps.show()"
      ]
    },
    {
      "cell_type": "code",
      "execution_count": 24,
      "id": "866d6572-92f2-40ad-9575-cb482d90eb67",
      "metadata": {
        "id": "866d6572-92f2-40ad-9575-cb482d90eb67"
      },
      "outputs": [],
      "source": [
        "tables = [ps.filter(ps._CreationDate == 2010 + i).limit(10) for i in range(0, 10)]"
      ]
    },
    {
      "cell_type": "code",
      "execution_count": 25,
      "id": "b1cbe3d4-f013-4d69-b81c-05e850d1ced8",
      "metadata": {
        "colab": {
          "base_uri": "https://localhost:8080/"
        },
        "id": "b1cbe3d4-f013-4d69-b81c-05e850d1ced8",
        "outputId": "1fcaa8b6-8459-4d90-ac64-1ab75ab04256"
      },
      "outputs": [
        {
          "output_type": "stream",
          "name": "stdout",
          "text": [
            "+-------------+----------+-----+\n",
            "|_CreationDate|      tags|score|\n",
            "+-------------+----------+-----+\n",
            "|         2015|    python|  353|\n",
            "|         2015|      java|  349|\n",
            "|         2015|javascript|  298|\n",
            "|         2015|       php|   85|\n",
            "|         2015|         r|   78|\n",
            "|         2015|     scala|   51|\n",
            "|         2015|         c|   29|\n",
            "|         2015|        go|   20|\n",
            "|         2015|    matlab|   11|\n",
            "|         2015|      ruby|    9|\n",
            "+-------------+----------+-----+\n",
            "\n"
          ]
        }
      ],
      "source": [
        "tables[5].show()"
      ]
    },
    {
      "cell_type": "code",
      "execution_count": 26,
      "id": "1e0e16f6-aa26-41f2-8b6b-20d37a00f258",
      "metadata": {
        "id": "1e0e16f6-aa26-41f2-8b6b-20d37a00f258"
      },
      "outputs": [],
      "source": [
        "for table in tables:\n",
        "    table.write.mode(\"append\").parquet(f\"output/top10{table.first()[0]}.parquet\")"
      ]
    }
  ],
  "metadata": {
    "kernelspec": {
      "display_name": "Python 3",
      "language": "python",
      "name": "python3"
    },
    "language_info": {
      "codemirror_mode": {
        "name": "ipython",
        "version": 3
      },
      "file_extension": ".py",
      "mimetype": "text/x-python",
      "name": "python",
      "nbconvert_exporter": "python",
      "pygments_lexer": "ipython3",
      "version": "3.9.5"
    },
    "colab": {
      "provenance": []
    }
  },
  "nbformat": 4,
  "nbformat_minor": 5
}